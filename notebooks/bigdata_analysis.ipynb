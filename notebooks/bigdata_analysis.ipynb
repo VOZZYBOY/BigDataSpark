{
 "cells": [
  {
   "cell_type": "markdown",
   "id": "132cd31d",
   "metadata": {},
   "source": [
    "# BigDataSpark - ETL Analysis\n",
    "\n",
    "Этот ноутбук демонстрирует процесс ETL с использованием Apache Spark"
   ]
  },
  {
   "cell_type": "code",
   "execution_count": null,
   "id": "689861b7",
   "metadata": {},
   "outputs": [],
   "source": [
    "from pyspark.sql import SparkSession\n",
    "from pyspark.sql.functions import *\n",
    "from pyspark.sql.types import *\n",
    "\n",
    "spark = SparkSession.builder \\\n",
    "    .appName(\"BigDataAnalysis\") \\\n",
    "    .getOrCreate()"
   ]
  },
  {
   "cell_type": "code",
   "execution_count": null,
   "id": "3a566346",
   "metadata": {},
   "outputs": [],
   "source": [
    "\n",
    "df = spark.read \\\n",
    "    .format(\"csv\") \\\n",
    "    .option(\"header\", \"true\") \\\n",
    "    .option(\"inferSchema\", \"true\") \\\n",
    "    .load(\"/home/jovyan/work/data/*.csv\")\n",
    "\n",
    "print(f\"Общее количество записей: {df.count()}\")\n",
    "df.printSchema()"
   ]
  },
  {
   "cell_type": "code",
   "execution_count": null,
   "id": "914d7a1a",
   "metadata": {},
   "outputs": [],
   "source": [
    "\n",
    "sales_by_category = df.groupBy(\"product_category\") \\\n",
    "    .agg(\n",
    "        sum(\"sale_total_price\").alias(\"total_revenue\"),\n",
    "        count(\"*\").alias(\"order_count\"),\n",
    "        avg(\"sale_total_price\").alias(\"avg_order_value\")\n",
    "    ) \\\n",
    "    .orderBy(desc(\"total_revenue\"))\n",
    "\n",
    "sales_by_category.show()"
   ]
  },
  {
   "cell_type": "code",
   "execution_count": null,
   "id": "f30a2cd1",
   "metadata": {},
   "outputs": [],
   "source": [
    "\n",
    "top_products = df.groupBy(\"product_name\", \"product_category\") \\\n",
    "    .agg(\n",
    "        sum(\"sale_quantity\").alias(\"total_quantity\"),\n",
    "        sum(\"sale_total_price\").alias(\"total_revenue\")\n",
    "    ) \\\n",
    "    .orderBy(desc(\"total_quantity\")) \\\n",
    "    .limit(10)\n",
    "\n",
    "top_products.show(truncate=False)"
   ]
  },
  {
   "cell_type": "code",
   "execution_count": null,
   "id": "e1eab424",
   "metadata": {},
   "outputs": [],
   "source": [
    "\n",
    "customers_by_country = df.groupBy(\"customer_country\") \\\n",
    "    .agg(\n",
    "        countDistinct(\"sale_customer_id\").alias(\"unique_customers\"),\n",
    "        sum(\"sale_total_price\").alias(\"total_revenue\")\n",
    "    ) \\\n",
    "    .orderBy(desc(\"total_revenue\"))\n",
    "\n",
    "customers_by_country.show()"
   ]
  },
  {
   "cell_type": "code",
   "execution_count": null,
   "id": "392873c6",
   "metadata": {},
   "outputs": [],
   "source": [
    "\n",
    "df_with_date = df.withColumn(\"sale_date_parsed\", to_date(col(\"sale_date\"), \"M/d/yyyy\")) \\\n",
    "    .withColumn(\"year\", year(\"sale_date_parsed\")) \\\n",
    "    .withColumn(\"month\", month(\"sale_date_parsed\"))\n",
    "\n",
    "monthly_sales = df_with_date.groupBy(\"year\", \"month\") \\\n",
    "    .agg(sum(\"sale_total_price\").alias(\"monthly_revenue\")) \\\n",
    "    .orderBy(\"year\", \"month\")\n",
    "\n",
    "monthly_sales.show()"
   ]
  },
  {
   "cell_type": "code",
   "execution_count": null,
   "id": "6fa11f60",
   "metadata": {},
   "outputs": [],
   "source": [
    "\n",
    "quality_analysis = df.select(\"product_name\", \"product_rating\", \"product_reviews\") \\\n",
    "    .distinct() \\\n",
    "    .orderBy(desc(\"product_rating\"))\n",
    "\n",
    "print(\"Продукты с лучшими рейтингами:\")\n",
    "quality_analysis.limit(10).show(truncate=False)\n",
    "\n",
    "print(\"\\nСтатистика по рейтингам:\")\n",
    "df.select(\"product_rating\").describe().show()"
   ]
  },
  {
   "cell_type": "code",
   "execution_count": null,
   "id": "103fcc3b",
   "metadata": {},
   "outputs": [],
   "source": [
    "spark.stop()"
   ]
  }
 ],
 "metadata": {
  "language_info": {
   "name": "python"
  }
 },
 "nbformat": 4,
 "nbformat_minor": 5
}
